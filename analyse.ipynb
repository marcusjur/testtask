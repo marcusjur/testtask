{
 "cells": [
  {
   "metadata": {},
   "cell_type": "markdown",
   "source": "### Задание 1",
   "id": "9c9e5b522d16e686"
  },
  {
   "metadata": {},
   "cell_type": "markdown",
   "source": " - Какие подгруппы товаров наиболее часто покупают за все время продаж (минимум 4 группы)?",
   "id": "3b4305ca54eb6666"
  },
  {
   "metadata": {
    "ExecuteTime": {
     "end_time": "2024-09-12T16:57:22.550721Z",
     "start_time": "2024-09-12T16:57:22.516513Z"
    }
   },
   "cell_type": "code",
   "source": [
    "import pandas as pd\n",
    "\n",
    "# Чтение данные из файла train.csv\n",
    "df = pd.read_csv('train.csv')\n",
    "\n",
    "# Группировка данных по подгруппам товаров и подсчёт количества продаж\n",
    "sales_on_subcategory = df['Sub-Category'].value_counts()\n",
    "print(sales_on_subcategory.nlargest(24))"
   ],
   "id": "3bb8a0135dfa761e",
   "outputs": [
    {
     "name": "stdout",
     "output_type": "stream",
     "text": [
      "Sub-Category\n",
      "Binders        1492\n",
      "Paper          1338\n",
      "Furnishings     931\n",
      "Phones          876\n",
      "Storage         832\n",
      "Art             785\n",
      "Accessories     756\n",
      "Chairs          607\n",
      "Appliances      459\n",
      "Labels          357\n",
      "Tables          314\n",
      "Envelopes       248\n",
      "Bookcases       226\n",
      "Fasteners       214\n",
      "Supplies        184\n",
      "Machines        115\n",
      "Copiers          66\n",
      "Name: count, dtype: int64\n"
     ]
    }
   ],
   "execution_count": 19
  },
  {
   "metadata": {},
   "cell_type": "markdown",
   "source": "- Какие подгруппы товаров наиболее часто покупают за последний год(минимум 4 группы)?",
   "id": "d72938bfeb1f08e1"
  },
  {
   "metadata": {
    "ExecuteTime": {
     "end_time": "2024-09-12T16:44:06.843353Z",
     "start_time": "2024-09-12T16:44:06.800506Z"
    }
   },
   "cell_type": "code",
   "source": [
    "from dateutil.relativedelta import relativedelta\n",
    "from datetime import datetime\n",
    "import pandas as pd\n",
    "\n",
    "# Чтение данные из файла train.csv\n",
    "df = pd.read_csv('train.csv')\n",
    "\n",
    "# Преобразование даты заказа в datetime\n",
    "df['Order Date'] = pd.to_datetime(df['Order Date'], dayfirst=True)\n",
    "\n",
    "# Отсечь данные старше чем два года, подсчёт количества продаж\n",
    "last_two_years = df[df['Order Date'] >= pd.to_datetime(df['Order Date'].max() - relativedelta(years=1))]\n",
    "assert last_two_years['Order Date'].min() > df['Order Date'].min()\n",
    "sales_on_subcategory_last_two_years = last_two_years['Sub-Category'].value_counts()\n",
    "\n",
    "print(sales_on_subcategory_last_two_years.nlargest(4))"
   ],
   "id": "66dbc237c3be12e3",
   "outputs": [
    {
     "name": "stdout",
     "output_type": "stream",
     "text": [
      "Sub-Category\n",
      "Binders        496\n",
      "Paper          454\n",
      "Furnishings    310\n",
      "Phones         291\n",
      "Name: count, dtype: int64\n"
     ]
    }
   ],
   "execution_count": 17
  },
  {
   "metadata": {},
   "cell_type": "markdown",
   "source": "- Какие подгруппы товаров наиболее часто покупают за последние два года (минимум 4 группы)?",
   "id": "73c2e6f9959316"
  },
  {
   "metadata": {
    "ExecuteTime": {
     "end_time": "2024-09-12T16:43:14.072288Z",
     "start_time": "2024-09-12T16:43:14.039706Z"
    }
   },
   "cell_type": "code",
   "source": [
    "from dateutil.relativedelta import relativedelta\n",
    "from datetime import datetime\n",
    "import pandas as pd\n",
    "\n",
    "# Чтение данные из файла train.csv\n",
    "df = pd.read_csv('train.csv')\n",
    "\n",
    "# Преобразование даты заказа в datetime\n",
    "df['Order Date'] = pd.to_datetime(df['Order Date'], dayfirst=True)\n",
    "\n",
    "# Отсечь данные старше чем два года, подсчёт количества продаж\n",
    "last_two_years = df[df['Order Date'] >= pd.to_datetime(df['Order Date'].max() - relativedelta(years=2))]\n",
    "assert last_two_years['Order Date'].min() > df['Order Date'].min()\n",
    "sales_on_subcategory_last_two_years = last_two_years['Sub-Category'].value_counts()\n",
    "\n",
    "print(sales_on_subcategory_last_two_years.nlargest(4))"
   ],
   "id": "7761ab5eaa0fe8aa",
   "outputs": [
    {
     "name": "stdout",
     "output_type": "stream",
     "text": [
      "Sub-Category\n",
      "Binders        907\n",
      "Paper          810\n",
      "Furnishings    558\n",
      "Phones         511\n",
      "Name: count, dtype: int64\n"
     ]
    }
   ],
   "execution_count": 14
  },
  {
   "metadata": {},
   "cell_type": "markdown",
   "source": [
    "#### На основе результатов можно сделать следующие выводы:\n",
    "- Подгруппы товаров Binders, Paper, Furnishings и Phones являются лидерами продаж за все время, последние два года и последний год.\n",
    "- Binders являются абсолютными лидерами продаж во всех трех исследуемых периодах.\n",
    "- Динамика продаж крайне стабильная"
   ],
   "id": "171d4dcf02f6f771"
  }
 ],
 "metadata": {
  "kernelspec": {
   "display_name": "Python 3",
   "language": "python",
   "name": "python3"
  },
  "language_info": {
   "codemirror_mode": {
    "name": "ipython",
    "version": 2
   },
   "file_extension": ".py",
   "mimetype": "text/x-python",
   "name": "python",
   "nbconvert_exporter": "python",
   "pygments_lexer": "ipython2",
   "version": "2.7.6"
  }
 },
 "nbformat": 4,
 "nbformat_minor": 5
}
